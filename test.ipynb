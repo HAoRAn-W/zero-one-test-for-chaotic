{
 "cells": [
  {
   "cell_type": "code",
   "execution_count": 24,
   "metadata": {},
   "outputs": [
    {
     "data": {
      "text/plain": [
       "-0.08418633710853411"
      ]
     },
     "execution_count": 24,
     "metadata": {},
     "output_type": "execute_result"
    }
   ],
   "source": [
    "import numpy as np\n",
    "import matplotlib.pyplot as plt\n",
    "\n",
    "\n",
    "def logistic_map(x0, r, N):\n",
    "    timeSeries = np.zeros(N)\n",
    "\n",
    "    timeSeries[0] = x0\n",
    "    for i in range(1, N):\n",
    "        xn = timeSeries[i - 1]\n",
    "        timeSeries[i] = r * xn * (1 - xn)\n",
    "\n",
    "    return timeSeries\n",
    "\n",
    "\n",
    "def Zero_One_Test(timeSeries, c):\n",
    "    N = len(timeSeries)\n",
    "    n = N // 10\n",
    "\n",
    "    p = np.zeros(N)\n",
    "    p[0] = timeSeries[0] * np.cos(c)\n",
    "\n",
    "    q = np.zeros(N)\n",
    "    q[0] = timeSeries[0] * np.sin(c)\n",
    "\n",
    "    for i in range(1, N):\n",
    "        p[i] = p[i - 1] + timeSeries[i] * np.cos((i + 1) * c)\n",
    "        q[i] = q[i - 1] + timeSeries[i] * np.sin((i + 1) * c)\n",
    "\n",
    "    # Mc = np.zeros(n)\n",
    "    # Dc = np.zeros(n)\n",
    "\n",
    "    # meanpower = np.square(np.mean(timeSeries))\n",
    "\n",
    "    sumMean = 0\n",
    "\n",
    "    for i in range(N - n):\n",
    "        sumMean += np.square(p[i + n] - p[i]) + np.square(q[i + n] - q[i])\n",
    "    Mc = (1 / N) * sumMean\n",
    "\n",
    "    # Vosc = meanpower*((1-np.cos(n*c))/(1-np.cos(c)))\n",
    "    # Dc = Mc - Vosc\n",
    "    # Dreg = Dc[n-1] + 1.1*np.min(np.abs(Dc))\n",
    "    Kc = np.log(Mc) / np.log(n)\n",
    "\n",
    "    return Kc\n",
    "\n",
    "\n",
    "Nc = 200\n",
    "rd = np.random.random_sample(Nc)\n",
    "c = np.zeros(Nc)\n",
    "for i in range(Nc):\n",
    "    c[i] = np.pi * (1 / 5) + np.pi * (3 / 5) * rd[i]\n",
    "\n",
    "Kc1 = np.zeros(Nc)\n",
    "Kc2 = np.zeros(Nc)\n",
    "\n",
    "tSeries_1 = logistic_map(1e-5, 3.55, 4000)\n",
    "tSeries_2 = logistic_map(1e-5, 3.97, 4000)\n",
    "\n",
    "for i in range(Nc):\n",
    "    Kc1[i] = Zero_One_Test(tSeries_1, c[i])\n",
    "    Kc2[i] = Zero_One_Test(tSeries_2, c[i])\n",
    "\n",
    "K1 = np.median(Kc1)\n",
    "K2 = np.median(Kc2)\n",
    "\n",
    "K1\n"
   ]
  },
  {
   "cell_type": "code",
   "execution_count": 25,
   "metadata": {},
   "outputs": [
    {
     "data": {
      "text/plain": [
       "0.6152132334151675"
      ]
     },
     "execution_count": 25,
     "metadata": {},
     "output_type": "execute_result"
    }
   ],
   "source": [
    "K2"
   ]
  },
  {
   "cell_type": "code",
   "execution_count": null,
   "metadata": {},
   "outputs": [],
   "source": []
  }
 ],
 "metadata": {
  "kernelspec": {
   "display_name": "Python 3",
   "language": "python",
   "name": "python3"
  },
  "language_info": {
   "codemirror_mode": {
    "name": "ipython",
    "version": 3
   },
   "file_extension": ".py",
   "mimetype": "text/x-python",
   "name": "python",
   "nbconvert_exporter": "python",
   "pygments_lexer": "ipython3",
   "version": "3.7.4"
  }
 },
 "nbformat": 4,
 "nbformat_minor": 4
}
